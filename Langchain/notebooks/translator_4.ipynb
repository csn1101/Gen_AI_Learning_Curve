{
 "cells": [
  {
   "cell_type": "code",
   "execution_count": 6,
   "metadata": {},
   "outputs": [],
   "source": [
    "from langchain.document_loaders import PyPDFLoader\n",
    "loader = PyPDFLoader(r'D:\\DS WorkFlow\\Github\\Gen_AI\\Langchain\\data\\smallpdf.pdf')\n",
    "pdf_doc = loader.load_and_split()"
   ]
  },
  {
   "cell_type": "code",
   "execution_count": 7,
   "metadata": {},
   "outputs": [
    {
     "data": {
      "text/plain": [
       "[Document(page_content='Welcome to Smallpdf\\nDigital Documents—All In One Place\\nAccess Files Anytime, Anywhere Enhance Documents in One Click \\nCollaborate With Others With the new Smallpdf experience, you can \\nfreely upload, organize, and share digital \\ndocuments. When you enable the ‘Storage’ \\noption, we’ll also store all processed files here. \\nYou can access files stored on Smallpdf from \\nyour computer, phone, or tablet. We’ll also \\nsync files from the Smallpdf Mobile App to our \\nonline portalWhen you right-click on a file, we’ll present \\nyou with an array of options to convert, \\ncompress, or modify it. \\nForget mundane administrative tasks. With \\nSmallpdf, you can request e-signatures, send \\nlarge files, or even enable the Smallpdf G Suite \\nApp for your entire organization. Ready to take document management to the next level?', metadata={'source': 'D:\\\\DS WorkFlow\\\\Github\\\\Gen_AI\\\\Langchain\\\\data\\\\smallpdf.pdf', 'page': 0})]"
      ]
     },
     "execution_count": 7,
     "metadata": {},
     "output_type": "execute_result"
    }
   ],
   "source": [
    "pdf_doc"
   ]
  },
  {
   "cell_type": "code",
   "execution_count": 8,
   "metadata": {},
   "outputs": [],
   "source": [
    "content = [page.page_content for page in pdf_doc]"
   ]
  },
  {
   "cell_type": "code",
   "execution_count": 9,
   "metadata": {},
   "outputs": [
    {
     "data": {
      "text/plain": [
       "['Welcome to Smallpdf\\nDigital Documents—All In One Place\\nAccess Files Anytime, Anywhere Enhance Documents in One Click \\nCollaborate With Others With the new Smallpdf experience, you can \\nfreely upload, organize, and share digital \\ndocuments. When you enable the ‘Storage’ \\noption, we’ll also store all processed files here. \\nYou can access files stored on Smallpdf from \\nyour computer, phone, or tablet. We’ll also \\nsync files from the Smallpdf Mobile App to our \\nonline portalWhen you right-click on a file, we’ll present \\nyou with an array of options to convert, \\ncompress, or modify it. \\nForget mundane administrative tasks. With \\nSmallpdf, you can request e-signatures, send \\nlarge files, or even enable the Smallpdf G Suite \\nApp for your entire organization. Ready to take document management to the next level?']"
      ]
     },
     "execution_count": 9,
     "metadata": {},
     "output_type": "execute_result"
    }
   ],
   "source": [
    "content"
   ]
  },
  {
   "cell_type": "code",
   "execution_count": 10,
   "metadata": {},
   "outputs": [
    {
     "data": {
      "text/plain": [
       "211"
      ]
     },
     "execution_count": 10,
     "metadata": {},
     "output_type": "execute_result"
    }
   ],
   "source": [
    "import tiktoken\n",
    "from transformers import pipeline\n",
    "\n",
    "enc = tiktoken.encoding_for_model(\"gpt2\")\n",
    "len(enc.encode(content[0]))"
   ]
  },
  {
   "cell_type": "code",
   "execution_count": 11,
   "metadata": {},
   "outputs": [
    {
     "name": "stdout",
     "output_type": "stream",
     "text": [
      "Average number of tokens per page: 211.0\n",
      "Max number of tokens per page: 211\n",
      "Min number of tokens per page: 211\n",
      "Total number of tokens: 211\n"
     ]
    }
   ],
   "source": [
    "tokens_list = [len(enc.encode(page)) for page in content]\n",
    "tokens_avg = sum(tokens_list) / len(tokens_list)\n",
    "tokens_max = max(tokens_list)\n",
    "tokens_min = min(tokens_list)\n",
    "tokens_total = sum(tokens_list)\n",
    "\n",
    "# print everything\n",
    "print(f\"Average number of tokens per page: {tokens_avg}\")\n",
    "print(f\"Max number of tokens per page: {tokens_max}\")\n",
    "print(f\"Min number of tokens per page: {tokens_min}\")\n",
    "print(f\"Total number of tokens: {tokens_total}\")"
   ]
  },
  {
   "cell_type": "code",
   "execution_count": 12,
   "metadata": {},
   "outputs": [
    {
     "data": {
      "text/plain": [
       "0.000633"
      ]
     },
     "execution_count": 12,
     "metadata": {},
     "output_type": "execute_result"
    }
   ],
   "source": [
    "# Estimated price for translating the first pdf\n",
    "tokens_total/1000 * 0.0015 * 2"
   ]
  },
  {
   "cell_type": "code",
   "execution_count": null,
   "metadata": {},
   "outputs": [],
   "source": []
  }
 ],
 "metadata": {
  "kernelspec": {
   "display_name": "genai",
   "language": "python",
   "name": "python3"
  },
  "language_info": {
   "codemirror_mode": {
    "name": "ipython",
    "version": 3
   },
   "file_extension": ".py",
   "mimetype": "text/x-python",
   "name": "python",
   "nbconvert_exporter": "python",
   "pygments_lexer": "ipython3",
   "version": "3.9.7"
  }
 },
 "nbformat": 4,
 "nbformat_minor": 2
}
