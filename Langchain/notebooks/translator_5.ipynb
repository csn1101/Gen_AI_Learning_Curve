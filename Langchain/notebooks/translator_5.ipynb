{
 "cells": [
  {
   "cell_type": "code",
   "execution_count": 4,
   "metadata": {},
   "outputs": [
    {
     "ename": "NameError",
     "evalue": "name 'translated_text' is not defined",
     "output_type": "error",
     "traceback": [
      "\u001b[1;31m---------------------------------------------------------------------------\u001b[0m",
      "\u001b[1;31mNameError\u001b[0m                                 Traceback (most recent call last)",
      "Cell \u001b[1;32mIn[4], line 65\u001b[0m\n\u001b[0;32m     62\u001b[0m output_pdf_path \u001b[38;5;241m=\u001b[39m \u001b[38;5;124mr\u001b[39m\u001b[38;5;124m\"\u001b[39m\u001b[38;5;124mD:\u001b[39m\u001b[38;5;124m\\\u001b[39m\u001b[38;5;124mDS WorkFlow\u001b[39m\u001b[38;5;124m\\\u001b[39m\u001b[38;5;124mGithub\u001b[39m\u001b[38;5;124m\\\u001b[39m\u001b[38;5;124mGen_AI\u001b[39m\u001b[38;5;124m\\\u001b[39m\u001b[38;5;124mLangchain\u001b[39m\u001b[38;5;124m\\\u001b[39m\u001b[38;5;124moutput_data\u001b[39m\u001b[38;5;124m\\\u001b[39m\u001b[38;5;124mtranslated.pdf\u001b[39m\u001b[38;5;124m\"\u001b[39m\n\u001b[0;32m     64\u001b[0m \u001b[38;5;66;03m# Use the functions with the provided paths\u001b[39;00m\n\u001b[1;32m---> 65\u001b[0m replace_text(pdf_path, \u001b[43mtranslated_text\u001b[49m)\n\u001b[0;32m     66\u001b[0m generate_pdf(translated_text, output_pdf_path)\n",
      "\u001b[1;31mNameError\u001b[0m: name 'translated_text' is not defined"
     ]
    }
   ],
   "source": [
    "import fitz  # PyMuPDF\n",
    "from reportlab.pdfgen import canvas\n",
    "from reportlab.lib.pagesizes import letter\n",
    "import io\n",
    "\n",
    "def replace_text(pdf_path, translated_text):\n",
    "    # Open the original PDF\n",
    "    document = fitz.open(pdf_path)\n",
    "    \n",
    "    # Loop through each page\n",
    "    for page in document:\n",
    "        # Get the text blocks on the page\n",
    "        blocks = page.get_text(\"dict\")[\"blocks\"]\n",
    "        \n",
    "        # Loop through each text block\n",
    "        for block in blocks:\n",
    "            # Check if the block contains text\n",
    "            if block[\"type\"] == 0:\n",
    "                # Loop through each line of text in the block\n",
    "                for line in block[\"lines\"]:\n",
    "                    # Loop through each span of text in the line\n",
    "                    for span in line[\"spans\"]:\n",
    "                        # Replace the original text with the translated text\n",
    "                        span[\"text\"] = translated_text\n",
    "                    \n",
    "    # Save the modified PDF\n",
    "    document.save(pdf_path)\n",
    "\n",
    "def generate_pdf(translated_text, output_pdf_path):\n",
    "    # Create a new PDF document\n",
    "    packet = io.BytesIO()\n",
    "    can = canvas.Canvas(packet, pagesize=letter)\n",
    "    width, height = letter\n",
    "    \n",
    "    # Split the translated text into lines\n",
    "    lines = translated_text.split('\\n')\n",
    "    \n",
    "    # Set the font and size for the PDF\n",
    "    can.setFont(\"Helvetica\", 12)\n",
    "    \n",
    "    # Loop through each line of text\n",
    "    y = height - 50\n",
    "    for line in lines:\n",
    "        # Draw the line of text on the PDF\n",
    "        can.drawString(50, y, line)\n",
    "        y -= 20\n",
    "    \n",
    "    # Save the PDF\n",
    "    can.save()\n",
    "    \n",
    "    # Move to the beginning of the StringIO buffer\n",
    "    packet.seek(0)\n",
    "    \n",
    "    # Create a new PDF document from the StringIO buffer\n",
    "    new_pdf = fitz.open(\"pdf\", packet)\n",
    "    \n",
    "    # Save the new PDF document to the output PDF file\n",
    "    new_pdf.save(output_pdf_path)\n",
    "\n",
    "# Paths\n",
    "pdf_path = r'D:\\DS WorkFlow\\Github\\Gen_AI\\Langchain\\data\\smallpdf.pdf'\n",
    "output_pdf_path = r\"D:\\DS WorkFlow\\Github\\Gen_AI\\Langchain\\output_data\\translated.pdf\"\n",
    "\n",
    "# Use the functions with the provided paths\n",
    "replace_text(pdf_path, translated_text)\n",
    "generate_pdf(translated_text, output_pdf_path)"
   ]
  },
  {
   "cell_type": "code",
   "execution_count": null,
   "metadata": {},
   "outputs": [
    {
     "name": "stdout",
     "output_type": "stream",
     "text": [
      "{1: 'Welcome to Smallpdf \\nDigital Documents—All In One Place \\nAccess Files Anytime, Anywhere  \\nEnhance Documents in One Click  \\nCollaborate With Others  \\nWith the new Smallpdf experience, you can  \\nfreely upload, organize, and share digital  \\ndocuments. When you enable the  ‘Storage’  \\noption , we’ll also store all processed files here.  \\nYou can access files stored on Smallpdf from  \\nyour computer, phone, or tablet. We’ll also  \\nsync files from the  Smallpdf Mobile App  to our  \\nonline portal \\nWhen you right-click on a file, we’ll present  \\nyou with an array of options to convert,  \\ncompress, or modify it.  \\nForget mundane administrative tasks. With  \\nSmallpdf, you can request e-signatures, send  \\nlarge files, or even enable the  Smallpdf G Suite  \\nApp  for your entire organization.  \\nReady to take document management to the next level?'}\n"
     ]
    },
    {
     "ename": "AttributeError",
     "evalue": "'NoneType' object has no attribute 'group'",
     "output_type": "error",
     "traceback": [
      "\u001b[1;31m---------------------------------------------------------------------------\u001b[0m\n",
      "\u001b[1;31mAttributeError\u001b[0m                            Traceback (most recent call last)\n",
      "Cell \u001b[1;32mIn[5], line 68\u001b[0m\n",
      "\u001b[0;32m     65\u001b[0m extracted_text \u001b[38;5;241m=\u001b[39m extract_text_and_formatting(pdf_path)\n",
      "\u001b[0;32m     67\u001b[0m \u001b[38;5;66;03m# Translate extracted text using Google Translate API\u001b[39;00m\n",
      "\u001b[1;32m---> 68\u001b[0m translated_text \u001b[38;5;241m=\u001b[39m \u001b[43mtranslate_text\u001b[49m\u001b[43m(\u001b[49m\u001b[43mextracted_text\u001b[49m\u001b[43m,\u001b[49m\u001b[43m \u001b[49m\u001b[43mtarget_language\u001b[49m\u001b[43m)\u001b[49m\n",
      "\u001b[0;32m     70\u001b[0m \u001b[38;5;66;03m# Create translated PDF\u001b[39;00m\n",
      "\u001b[0;32m     71\u001b[0m create_translated_pdf(pdf_path, translated_text, output_pdf_path)\n",
      "\n",
      "Cell \u001b[1;32mIn[5], line 38\u001b[0m, in \u001b[0;36mtranslate_text\u001b[1;34m(text, target_language)\u001b[0m\n",
      "\u001b[0;32m     36\u001b[0m translated_text \u001b[38;5;241m=\u001b[39m {}\n",
      "\u001b[0;32m     37\u001b[0m \u001b[38;5;28;01mfor\u001b[39;00m page_num, page_content \u001b[38;5;129;01min\u001b[39;00m text\u001b[38;5;241m.\u001b[39mitems():\n",
      "\u001b[1;32m---> 38\u001b[0m     translated_page_content \u001b[38;5;241m=\u001b[39m \u001b[43mtranslator\u001b[49m\u001b[38;5;241;43m.\u001b[39;49m\u001b[43mtranslate\u001b[49m\u001b[43m(\u001b[49m\u001b[43mpage_content\u001b[49m\u001b[43m,\u001b[49m\u001b[43m \u001b[49m\u001b[43mdest\u001b[49m\u001b[38;5;241;43m=\u001b[39;49m\u001b[43mtarget_language\u001b[49m\u001b[43m)\u001b[49m\u001b[38;5;241m.\u001b[39mtext\n",
      "\u001b[0;32m     39\u001b[0m     translated_text[page_num] \u001b[38;5;241m=\u001b[39m translated_page_content\n",
      "\u001b[0;32m     40\u001b[0m \u001b[38;5;28;01mreturn\u001b[39;00m translated_text\n",
      "\n",
      "File \u001b[1;32mc:\\Users\\sengu\\anaconda3\\envs\\genai\\lib\\site-packages\\googletrans\\client.py:182\u001b[0m, in \u001b[0;36mTranslator.translate\u001b[1;34m(self, text, dest, src, **kwargs)\u001b[0m\n",
      "\u001b[0;32m    179\u001b[0m     \u001b[38;5;28;01mreturn\u001b[39;00m result\n",
      "\u001b[0;32m    181\u001b[0m origin \u001b[38;5;241m=\u001b[39m text\n",
      "\u001b[1;32m--> 182\u001b[0m data \u001b[38;5;241m=\u001b[39m \u001b[38;5;28;43mself\u001b[39;49m\u001b[38;5;241;43m.\u001b[39;49m\u001b[43m_translate\u001b[49m\u001b[43m(\u001b[49m\u001b[43mtext\u001b[49m\u001b[43m,\u001b[49m\u001b[43m \u001b[49m\u001b[43mdest\u001b[49m\u001b[43m,\u001b[49m\u001b[43m \u001b[49m\u001b[43msrc\u001b[49m\u001b[43m,\u001b[49m\u001b[43m \u001b[49m\u001b[43mkwargs\u001b[49m\u001b[43m)\u001b[49m\n",
      "\u001b[0;32m    184\u001b[0m \u001b[38;5;66;03m# this code will be updated when the format is changed.\u001b[39;00m\n",
      "\u001b[0;32m    185\u001b[0m translated \u001b[38;5;241m=\u001b[39m \u001b[38;5;124m'\u001b[39m\u001b[38;5;124m'\u001b[39m\u001b[38;5;241m.\u001b[39mjoin([d[\u001b[38;5;241m0\u001b[39m] \u001b[38;5;28;01mif\u001b[39;00m d[\u001b[38;5;241m0\u001b[39m] \u001b[38;5;28;01melse\u001b[39;00m \u001b[38;5;124m'\u001b[39m\u001b[38;5;124m'\u001b[39m \u001b[38;5;28;01mfor\u001b[39;00m d \u001b[38;5;129;01min\u001b[39;00m data[\u001b[38;5;241m0\u001b[39m]])\n",
      "\n",
      "File \u001b[1;32mc:\\Users\\sengu\\anaconda3\\envs\\genai\\lib\\site-packages\\googletrans\\client.py:78\u001b[0m, in \u001b[0;36mTranslator._translate\u001b[1;34m(self, text, dest, src, override)\u001b[0m\n",
      "\u001b[0;32m     77\u001b[0m \u001b[38;5;28;01mdef\u001b[39;00m \u001b[38;5;21m_translate\u001b[39m(\u001b[38;5;28mself\u001b[39m, text, dest, src, override):\n",
      "\u001b[1;32m---> 78\u001b[0m     token \u001b[38;5;241m=\u001b[39m \u001b[38;5;28;43mself\u001b[39;49m\u001b[38;5;241;43m.\u001b[39;49m\u001b[43mtoken_acquirer\u001b[49m\u001b[38;5;241;43m.\u001b[39;49m\u001b[43mdo\u001b[49m\u001b[43m(\u001b[49m\u001b[43mtext\u001b[49m\u001b[43m)\u001b[49m\n",
      "\u001b[0;32m     79\u001b[0m     params \u001b[38;5;241m=\u001b[39m utils\u001b[38;5;241m.\u001b[39mbuild_params(query\u001b[38;5;241m=\u001b[39mtext, src\u001b[38;5;241m=\u001b[39msrc, dest\u001b[38;5;241m=\u001b[39mdest,\n",
      "\u001b[0;32m     80\u001b[0m                                 token\u001b[38;5;241m=\u001b[39mtoken, override\u001b[38;5;241m=\u001b[39moverride)\n",
      "\u001b[0;32m     82\u001b[0m     url \u001b[38;5;241m=\u001b[39m urls\u001b[38;5;241m.\u001b[39mTRANSLATE\u001b[38;5;241m.\u001b[39mformat(host\u001b[38;5;241m=\u001b[39m\u001b[38;5;28mself\u001b[39m\u001b[38;5;241m.\u001b[39m_pick_service_url())\n",
      "\n",
      "File \u001b[1;32mc:\\Users\\sengu\\anaconda3\\envs\\genai\\lib\\site-packages\\googletrans\\gtoken.py:194\u001b[0m, in \u001b[0;36mTokenAcquirer.do\u001b[1;34m(self, text)\u001b[0m\n",
      "\u001b[0;32m    193\u001b[0m \u001b[38;5;28;01mdef\u001b[39;00m \u001b[38;5;21mdo\u001b[39m(\u001b[38;5;28mself\u001b[39m, text):\n",
      "\u001b[1;32m--> 194\u001b[0m     \u001b[38;5;28;43mself\u001b[39;49m\u001b[38;5;241;43m.\u001b[39;49m\u001b[43m_update\u001b[49m\u001b[43m(\u001b[49m\u001b[43m)\u001b[49m\n",
      "\u001b[0;32m    195\u001b[0m     tk \u001b[38;5;241m=\u001b[39m \u001b[38;5;28mself\u001b[39m\u001b[38;5;241m.\u001b[39macquire(text)\n",
      "\u001b[0;32m    196\u001b[0m     \u001b[38;5;28;01mreturn\u001b[39;00m tk\n",
      "\n",
      "File \u001b[1;32mc:\\Users\\sengu\\anaconda3\\envs\\genai\\lib\\site-packages\\googletrans\\gtoken.py:62\u001b[0m, in \u001b[0;36mTokenAcquirer._update\u001b[1;34m(self)\u001b[0m\n",
      "\u001b[0;32m     59\u001b[0m     \u001b[38;5;28;01mreturn\u001b[39;00m\n",
      "\u001b[0;32m     61\u001b[0m \u001b[38;5;66;03m# this will be the same as python code after stripping out a reserved word 'var'\u001b[39;00m\n",
      "\u001b[1;32m---> 62\u001b[0m code \u001b[38;5;241m=\u001b[39m \u001b[38;5;28;43mself\u001b[39;49m\u001b[38;5;241;43m.\u001b[39;49m\u001b[43mRE_TKK\u001b[49m\u001b[38;5;241;43m.\u001b[39;49m\u001b[43msearch\u001b[49m\u001b[43m(\u001b[49m\u001b[43mr\u001b[49m\u001b[38;5;241;43m.\u001b[39;49m\u001b[43mtext\u001b[49m\u001b[43m)\u001b[49m\u001b[38;5;241;43m.\u001b[39;49m\u001b[43mgroup\u001b[49m(\u001b[38;5;241m1\u001b[39m)\u001b[38;5;241m.\u001b[39mreplace(\u001b[38;5;124m'\u001b[39m\u001b[38;5;124mvar \u001b[39m\u001b[38;5;124m'\u001b[39m, \u001b[38;5;124m'\u001b[39m\u001b[38;5;124m'\u001b[39m)\n",
      "\u001b[0;32m     63\u001b[0m \u001b[38;5;66;03m# unescape special ascii characters such like a \\x3d(=)\u001b[39;00m\n",
      "\u001b[0;32m     64\u001b[0m code \u001b[38;5;241m=\u001b[39m code\u001b[38;5;241m.\u001b[39mencode()\u001b[38;5;241m.\u001b[39mdecode(\u001b[38;5;124m'\u001b[39m\u001b[38;5;124municode-escape\u001b[39m\u001b[38;5;124m'\u001b[39m)\n",
      "\n",
      "\u001b[1;31mAttributeError\u001b[0m: 'NoneType' object has no attribute 'group'"
     ]
    }
   ],
   "source": []
  },
  {
   "cell_type": "code",
   "execution_count": null,
   "metadata": {},
   "outputs": [],
   "source": []
  }
 ],
 "metadata": {
  "kernelspec": {
   "display_name": "genai",
   "language": "python",
   "name": "python3"
  },
  "language_info": {
   "codemirror_mode": {
    "name": "ipython",
    "version": 3
   },
   "file_extension": ".py",
   "mimetype": "text/x-python",
   "name": "python",
   "nbconvert_exporter": "python",
   "pygments_lexer": "ipython3",
   "version": "3.9.7"
  }
 },
 "nbformat": 4,
 "nbformat_minor": 2
}
