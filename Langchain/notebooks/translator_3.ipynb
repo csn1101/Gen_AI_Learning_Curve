{
 "cells": [
  {
   "cell_type": "code",
   "execution_count": 5,
   "metadata": {},
   "outputs": [
    {
     "name": "stdout",
     "output_type": "stream",
     "text": [
      "{1: 'Welcome to Smallpdf \\nDigital Documents—All In One Place \\nAccess Files Anytime, Anywhere  \\nEnhance Documents in One Click  \\nCollaborate With Others  \\nWith the new Smallpdf experience, you can  \\nfreely upload, organize, and share digital  \\ndocuments. When you enable the  ‘Storage’  \\noption , we’ll also store all processed files here.  \\nYou can access files stored on Smallpdf from  \\nyour computer, phone, or tablet. We’ll also  \\nsync files from the  Smallpdf Mobile App  to our  \\nonline portal \\nWhen you right-click on a file, we’ll present  \\nyou with an array of options to convert,  \\ncompress, or modify it.  \\nForget mundane administrative tasks. With  \\nSmallpdf, you can request e-signatures, send  \\nlarge files, or even enable the  Smallpdf G Suite  \\nApp  for your entire organization.  \\nReady to take document management to the next level?'}\n"
     ]
    },
    {
     "ename": "AttributeError",
     "evalue": "'NoneType' object has no attribute 'group'",
     "output_type": "error",
     "traceback": [
      "\u001b[1;31m---------------------------------------------------------------------------\u001b[0m",
      "\u001b[1;31mAttributeError\u001b[0m                            Traceback (most recent call last)",
      "Cell \u001b[1;32mIn[5], line 68\u001b[0m\n\u001b[0;32m     65\u001b[0m extracted_text \u001b[38;5;241m=\u001b[39m extract_text_and_formatting(pdf_path)\n\u001b[0;32m     67\u001b[0m \u001b[38;5;66;03m# Translate extracted text using Google Translate API\u001b[39;00m\n\u001b[1;32m---> 68\u001b[0m translated_text \u001b[38;5;241m=\u001b[39m \u001b[43mtranslate_text\u001b[49m\u001b[43m(\u001b[49m\u001b[43mextracted_text\u001b[49m\u001b[43m,\u001b[49m\u001b[43m \u001b[49m\u001b[43mtarget_language\u001b[49m\u001b[43m)\u001b[49m\n\u001b[0;32m     70\u001b[0m \u001b[38;5;66;03m# Create translated PDF\u001b[39;00m\n\u001b[0;32m     71\u001b[0m create_translated_pdf(pdf_path, translated_text, output_pdf_path)\n",
      "Cell \u001b[1;32mIn[5], line 38\u001b[0m, in \u001b[0;36mtranslate_text\u001b[1;34m(text, target_language)\u001b[0m\n\u001b[0;32m     36\u001b[0m translated_text \u001b[38;5;241m=\u001b[39m {}\n\u001b[0;32m     37\u001b[0m \u001b[38;5;28;01mfor\u001b[39;00m page_num, page_content \u001b[38;5;129;01min\u001b[39;00m text\u001b[38;5;241m.\u001b[39mitems():\n\u001b[1;32m---> 38\u001b[0m     translated_page_content \u001b[38;5;241m=\u001b[39m \u001b[43mtranslator\u001b[49m\u001b[38;5;241;43m.\u001b[39;49m\u001b[43mtranslate\u001b[49m\u001b[43m(\u001b[49m\u001b[43mpage_content\u001b[49m\u001b[43m,\u001b[49m\u001b[43m \u001b[49m\u001b[43mdest\u001b[49m\u001b[38;5;241;43m=\u001b[39;49m\u001b[43mtarget_language\u001b[49m\u001b[43m)\u001b[49m\u001b[38;5;241m.\u001b[39mtext\n\u001b[0;32m     39\u001b[0m     translated_text[page_num] \u001b[38;5;241m=\u001b[39m translated_page_content\n\u001b[0;32m     40\u001b[0m \u001b[38;5;28;01mreturn\u001b[39;00m translated_text\n",
      "File \u001b[1;32mc:\\Users\\sengu\\anaconda3\\envs\\genai\\lib\\site-packages\\googletrans\\client.py:182\u001b[0m, in \u001b[0;36mTranslator.translate\u001b[1;34m(self, text, dest, src, **kwargs)\u001b[0m\n\u001b[0;32m    179\u001b[0m     \u001b[38;5;28;01mreturn\u001b[39;00m result\n\u001b[0;32m    181\u001b[0m origin \u001b[38;5;241m=\u001b[39m text\n\u001b[1;32m--> 182\u001b[0m data \u001b[38;5;241m=\u001b[39m \u001b[38;5;28;43mself\u001b[39;49m\u001b[38;5;241;43m.\u001b[39;49m\u001b[43m_translate\u001b[49m\u001b[43m(\u001b[49m\u001b[43mtext\u001b[49m\u001b[43m,\u001b[49m\u001b[43m \u001b[49m\u001b[43mdest\u001b[49m\u001b[43m,\u001b[49m\u001b[43m \u001b[49m\u001b[43msrc\u001b[49m\u001b[43m,\u001b[49m\u001b[43m \u001b[49m\u001b[43mkwargs\u001b[49m\u001b[43m)\u001b[49m\n\u001b[0;32m    184\u001b[0m \u001b[38;5;66;03m# this code will be updated when the format is changed.\u001b[39;00m\n\u001b[0;32m    185\u001b[0m translated \u001b[38;5;241m=\u001b[39m \u001b[38;5;124m'\u001b[39m\u001b[38;5;124m'\u001b[39m\u001b[38;5;241m.\u001b[39mjoin([d[\u001b[38;5;241m0\u001b[39m] \u001b[38;5;28;01mif\u001b[39;00m d[\u001b[38;5;241m0\u001b[39m] \u001b[38;5;28;01melse\u001b[39;00m \u001b[38;5;124m'\u001b[39m\u001b[38;5;124m'\u001b[39m \u001b[38;5;28;01mfor\u001b[39;00m d \u001b[38;5;129;01min\u001b[39;00m data[\u001b[38;5;241m0\u001b[39m]])\n",
      "File \u001b[1;32mc:\\Users\\sengu\\anaconda3\\envs\\genai\\lib\\site-packages\\googletrans\\client.py:78\u001b[0m, in \u001b[0;36mTranslator._translate\u001b[1;34m(self, text, dest, src, override)\u001b[0m\n\u001b[0;32m     77\u001b[0m \u001b[38;5;28;01mdef\u001b[39;00m \u001b[38;5;21m_translate\u001b[39m(\u001b[38;5;28mself\u001b[39m, text, dest, src, override):\n\u001b[1;32m---> 78\u001b[0m     token \u001b[38;5;241m=\u001b[39m \u001b[38;5;28;43mself\u001b[39;49m\u001b[38;5;241;43m.\u001b[39;49m\u001b[43mtoken_acquirer\u001b[49m\u001b[38;5;241;43m.\u001b[39;49m\u001b[43mdo\u001b[49m\u001b[43m(\u001b[49m\u001b[43mtext\u001b[49m\u001b[43m)\u001b[49m\n\u001b[0;32m     79\u001b[0m     params \u001b[38;5;241m=\u001b[39m utils\u001b[38;5;241m.\u001b[39mbuild_params(query\u001b[38;5;241m=\u001b[39mtext, src\u001b[38;5;241m=\u001b[39msrc, dest\u001b[38;5;241m=\u001b[39mdest,\n\u001b[0;32m     80\u001b[0m                                 token\u001b[38;5;241m=\u001b[39mtoken, override\u001b[38;5;241m=\u001b[39moverride)\n\u001b[0;32m     82\u001b[0m     url \u001b[38;5;241m=\u001b[39m urls\u001b[38;5;241m.\u001b[39mTRANSLATE\u001b[38;5;241m.\u001b[39mformat(host\u001b[38;5;241m=\u001b[39m\u001b[38;5;28mself\u001b[39m\u001b[38;5;241m.\u001b[39m_pick_service_url())\n",
      "File \u001b[1;32mc:\\Users\\sengu\\anaconda3\\envs\\genai\\lib\\site-packages\\googletrans\\gtoken.py:194\u001b[0m, in \u001b[0;36mTokenAcquirer.do\u001b[1;34m(self, text)\u001b[0m\n\u001b[0;32m    193\u001b[0m \u001b[38;5;28;01mdef\u001b[39;00m \u001b[38;5;21mdo\u001b[39m(\u001b[38;5;28mself\u001b[39m, text):\n\u001b[1;32m--> 194\u001b[0m     \u001b[38;5;28;43mself\u001b[39;49m\u001b[38;5;241;43m.\u001b[39;49m\u001b[43m_update\u001b[49m\u001b[43m(\u001b[49m\u001b[43m)\u001b[49m\n\u001b[0;32m    195\u001b[0m     tk \u001b[38;5;241m=\u001b[39m \u001b[38;5;28mself\u001b[39m\u001b[38;5;241m.\u001b[39macquire(text)\n\u001b[0;32m    196\u001b[0m     \u001b[38;5;28;01mreturn\u001b[39;00m tk\n",
      "File \u001b[1;32mc:\\Users\\sengu\\anaconda3\\envs\\genai\\lib\\site-packages\\googletrans\\gtoken.py:62\u001b[0m, in \u001b[0;36mTokenAcquirer._update\u001b[1;34m(self)\u001b[0m\n\u001b[0;32m     59\u001b[0m     \u001b[38;5;28;01mreturn\u001b[39;00m\n\u001b[0;32m     61\u001b[0m \u001b[38;5;66;03m# this will be the same as python code after stripping out a reserved word 'var'\u001b[39;00m\n\u001b[1;32m---> 62\u001b[0m code \u001b[38;5;241m=\u001b[39m \u001b[38;5;28;43mself\u001b[39;49m\u001b[38;5;241;43m.\u001b[39;49m\u001b[43mRE_TKK\u001b[49m\u001b[38;5;241;43m.\u001b[39;49m\u001b[43msearch\u001b[49m\u001b[43m(\u001b[49m\u001b[43mr\u001b[49m\u001b[38;5;241;43m.\u001b[39;49m\u001b[43mtext\u001b[49m\u001b[43m)\u001b[49m\u001b[38;5;241;43m.\u001b[39;49m\u001b[43mgroup\u001b[49m(\u001b[38;5;241m1\u001b[39m)\u001b[38;5;241m.\u001b[39mreplace(\u001b[38;5;124m'\u001b[39m\u001b[38;5;124mvar \u001b[39m\u001b[38;5;124m'\u001b[39m, \u001b[38;5;124m'\u001b[39m\u001b[38;5;124m'\u001b[39m)\n\u001b[0;32m     63\u001b[0m \u001b[38;5;66;03m# unescape special ascii characters such like a \\x3d(=)\u001b[39;00m\n\u001b[0;32m     64\u001b[0m code \u001b[38;5;241m=\u001b[39m code\u001b[38;5;241m.\u001b[39mencode()\u001b[38;5;241m.\u001b[39mdecode(\u001b[38;5;124m'\u001b[39m\u001b[38;5;124municode-escape\u001b[39m\u001b[38;5;124m'\u001b[39m)\n",
      "\u001b[1;31mAttributeError\u001b[0m: 'NoneType' object has no attribute 'group'"
     ]
    }
   ],
   "source": [
    "from reportlab.lib.pagesizes import letter\n",
    "from reportlab.pdfgen import canvas\n",
    "import fitz\n",
    "from googletrans import Translator\n",
    "\n",
    "import fitz  # PyMuPDF\n",
    "import re\n",
    "\n",
    "def extract_text_and_formatting(pdf_path):\n",
    "    document = fitz.open(pdf_path)\n",
    "    pages = {}\n",
    "    for page_num in range(len(document)):\n",
    "        page = document.load_page(page_num)\n",
    "        blocks = page.get_text(\"dict\")[\"blocks\"]\n",
    "        page_content = \"\"\n",
    "        for block in blocks:\n",
    "            if block[\"type\"] == 0:  # text block\n",
    "                for line in block[\"lines\"]:\n",
    "                    for span in line[\"spans\"]:\n",
    "                        text = span.get(\"text\", \"\")\n",
    "                        if text:\n",
    "                            page_content += text\n",
    "                            if span[\"flags\"] & 4:  # space after\n",
    "                                page_content += \" \"\n",
    "                    page_content += \"\\n\"  # new line after each line\n",
    "        pages[page_num + 1] = page_content.strip()  # Add 1 to page_num to start page numbering from 1\n",
    "    return pages\n",
    "\n",
    "# Test the function\n",
    "pdf_path = r\"D:\\DS WorkFlow\\Github\\Gen_AI\\Langchain\\data\\smallpdf.pdf\"\n",
    "extracted_text = extract_text_and_formatting(pdf_path)\n",
    "print(extracted_text)\n",
    "\n",
    "def translate_text(text, target_language):\n",
    "    translator = Translator()\n",
    "    translated_text = {}\n",
    "    for page_num, page_content in text.items():\n",
    "        translated_page_content = translator.translate(page_content, dest=target_language).text\n",
    "        translated_text[page_num] = translated_page_content\n",
    "    return translated_text\n",
    "\n",
    "def create_translated_pdf(pdf_path, translated_text, output_pdf_path):\n",
    "    original_doc = fitz.open(pdf_path)\n",
    "    new_doc = fitz.open()\n",
    "    for original_page in original_doc:\n",
    "        new_page = new_doc.new_page(width=letter[0], height=letter[1])\n",
    "        new_page.show_pdf_page(new_page.rect, original_page)\n",
    "        page_text = translated_text.get(original_page.number, \"\")\n",
    "        if page_text:\n",
    "            # Write translated text on the new page\n",
    "            can = canvas.Canvas(new_doc, new_page.rect)\n",
    "            can.setFont(\"Helvetica\", 12)\n",
    "            for line_num, line in enumerate(page_text.split('\\n')):\n",
    "                can.drawString(50, new_page.rect.height - 50 - (line_num * 14), line)  # Adjust position as needed\n",
    "            can.save()\n",
    "    new_doc.save(output_pdf_path)\n",
    "    print(f\"Translated PDF saved at: {output_pdf_path}\")\n",
    "\n",
    "# Paths and settings\n",
    "pdf_path = r\"D:\\DS WorkFlow\\Github\\Gen_AI\\Langchain\\data\\smallpdf.pdf\"\n",
    "target_language = \"fr\"  # Target language code\n",
    "output_pdf_path = r\"D:\\DS WorkFlow\\Github\\Gen_AI\\Langchain\\output_data\\translated_pdf.pdf\"\n",
    "\n",
    "# Extract text from original PDF\n",
    "extracted_text = extract_text_and_formatting(pdf_path)\n",
    "\n",
    "# Translate extracted text using Google Translate API\n",
    "translated_text = translate_text(extracted_text, target_language)\n",
    "\n",
    "# Create translated PDF\n",
    "create_translated_pdf(pdf_path, translated_text, output_pdf_path)"
   ]
  },
  {
   "cell_type": "code",
   "execution_count": null,
   "metadata": {},
   "outputs": [
    {
     "ename": "ImportError",
     "evalue": "cannot import name 'Deepl' from 'deepl' (c:\\Users\\sengu\\anaconda3\\envs\\genai\\lib\\site-packages\\deepl\\__init__.py)",
     "output_type": "error",
     "traceback": [
      "\u001b[1;31m---------------------------------------------------------------------------\u001b[0m\n",
      "\u001b[1;31mImportError\u001b[0m                               Traceback (most recent call last)\n",
      "Cell \u001b[1;32mIn[1], line 4\u001b[0m\n",
      "\u001b[0;32m      2\u001b[0m \u001b[38;5;28;01mfrom\u001b[39;00m \u001b[38;5;21;01mreportlab\u001b[39;00m\u001b[38;5;21;01m.\u001b[39;00m\u001b[38;5;21;01mpdfgen\u001b[39;00m \u001b[38;5;28;01mimport\u001b[39;00m canvas\n",
      "\u001b[0;32m      3\u001b[0m \u001b[38;5;28;01mimport\u001b[39;00m \u001b[38;5;21;01mfitz\u001b[39;00m\n",
      "\u001b[1;32m----> 4\u001b[0m \u001b[38;5;28;01mfrom\u001b[39;00m \u001b[38;5;21;01mdeepl\u001b[39;00m \u001b[38;5;28;01mimport\u001b[39;00m Deepl\n",
      "\u001b[0;32m      6\u001b[0m \u001b[38;5;28;01mdef\u001b[39;00m \u001b[38;5;21mextract_text_and_formatting\u001b[39m(pdf_path):\n",
      "\u001b[0;32m      7\u001b[0m     document \u001b[38;5;241m=\u001b[39m fitz\u001b[38;5;241m.\u001b[39mopen(pdf_path)\n",
      "\n",
      "\u001b[1;31mImportError\u001b[0m: cannot import name 'Deepl' from 'deepl' (c:\\Users\\sengu\\anaconda3\\envs\\genai\\lib\\site-packages\\deepl\\__init__.py)"
     ]
    }
   ],
   "source": []
  },
  {
   "cell_type": "code",
   "execution_count": null,
   "metadata": {},
   "outputs": [],
   "source": []
  }
 ],
 "metadata": {
  "kernelspec": {
   "display_name": "genai",
   "language": "python",
   "name": "python3"
  },
  "language_info": {
   "codemirror_mode": {
    "name": "ipython",
    "version": 3
   },
   "file_extension": ".py",
   "mimetype": "text/x-python",
   "name": "python",
   "nbconvert_exporter": "python",
   "pygments_lexer": "ipython3",
   "version": "3.9.7"
  }
 },
 "nbformat": 4,
 "nbformat_minor": 2
}
