{
 "cells": [
  {
   "cell_type": "code",
   "execution_count": 21,
   "metadata": {},
   "outputs": [
    {
     "name": "stdout",
     "output_type": "stream",
     "text": [
      "sk-proj-zWhTMSWP3Xt1CXjdAaPrT3BlbkFJe7pzbSWZRWX1jTZy207U\n"
     ]
    }
   ],
   "source": [
    "import os\n",
    "from dotenv import load_dotenv\n",
    "# Specify the path to the .env file\n",
    "env_path = r'D:\\DS WorkFlow\\Github\\Gen_AI\\.env'\n",
    "# Load the .env file\n",
    "load_dotenv(dotenv_path=env_path)\n",
    "# Retrieve the API key using the correct variable name\n",
    "openai_key = os.getenv('test_key1')\n",
    "# Print the API key\n",
    "print(openai_key)"
   ]
  },
  {
   "cell_type": "markdown",
   "metadata": {},
   "source": [
    "**Client Call Code**"
   ]
  },
  {
   "cell_type": "markdown",
   "metadata": {},
   "source": []
  }
 ],
 "metadata": {
  "kernelspec": {
   "display_name": "genai",
   "language": "python",
   "name": "python3"
  },
  "language_info": {
   "codemirror_mode": {
    "name": "ipython",
    "version": 3
   },
   "file_extension": ".py",
   "mimetype": "text/x-python",
   "name": "python",
   "nbconvert_exporter": "python",
   "pygments_lexer": "ipython3",
   "version": "3.9.7"
  }
 },
 "nbformat": 4,
 "nbformat_minor": 2
}
