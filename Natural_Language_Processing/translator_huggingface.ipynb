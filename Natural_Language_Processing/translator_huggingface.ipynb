{
 "cells": [
  {
   "cell_type": "code",
   "execution_count": 6,
   "metadata": {},
   "outputs": [],
   "source": [
    "from pdf2image import convert_from_path\n",
    "\n",
    "# Path to the PDF file\n",
    "pdf_path = r\"C:\\Users\\sengu\\Downloads\\Get_Started_With_Smallpdf.pdf\"\n",
    "\n",
    "# Convert the PDF to an image\n",
    "images = convert_from_path(pdf_path)\n",
    "\n",
    "# Save the image\n",
    "for i, image in enumerate(images):\n",
    "    image.save('page_{}.jpg'.format(i), 'JPEG')"
   ]
  },
  {
   "cell_type": "code",
   "execution_count": 5,
   "metadata": {},
   "outputs": [
    {
     "name": "stdout",
     "output_type": "stream",
     "text": [
      "Welcome to Smallpdf\n",
      "\n",
      "Ready to take document management to the next level?\n",
      "\n",
      "7 Digital Documents—All In One Place\n",
      "\n",
      "ia DOC With the new Smallpdf experience, you can\n",
      "freely upload, organize, and share digital\n",
      "documents. When you enable the ‘Storage’\n",
      "option, we'll also store all processed files here.\n",
      "\n",
      "Enhance Documents in One Click\n",
      "\n",
      "° x\n",
      "When you right-click on a file, we'll present (2 ea\n",
      "\n",
      "you with an array of options to convert, = m\n",
      "compress, or modify it. . 6 “\n",
      "x °\n",
      "\n",
      "Access Files Anytime, Anywhere\n",
      "\n",
      "&\n",
      "vs S You can access files stored on Smallpdf from\n",
      "_ your computer, phone, or tablet. We'll also\n",
      "| PDF sync files from the Smallpdf Mobile App to our\n",
      "rPOF] . = online portal\n",
      "° x\n",
      "x °\n",
      "Collaborate With Others M\n",
      "\n",
      "! \\\n",
      "Forget mundane administrative tasks. With OS Sign here |\n",
      "1\n",
      "\n",
      "Smallpdf, youcan requeste-signatures,send\n",
      "\n",
      "large files, or even enable the Smallpdf G Suite °\n",
      "App for your entire organization.\n",
      "\n",
      "\n"
     ]
    }
   ],
   "source": [
    "import pytesseract\n",
    "from PIL import Image\n",
    "\n",
    "# Open the image file\n",
    "img = Image.open('page_0.jpg')\n",
    "\n",
    "# Set the path to the Tesseract-OCR executable\n",
    "pytesseract.pytesseract.tesseract_cmd = r'C:\\Program Files\\Tesseract-OCR\\tesseract.exe'\n",
    "\n",
    "# Extract text from the image\n",
    "text = pytesseract.image_to_string(img)\n",
    "\n",
    "# Print the extracted text\n",
    "print(text)"
   ]
  },
  {
   "cell_type": "code",
   "execution_count": 11,
   "metadata": {},
   "outputs": [
    {
     "name": "stdout",
     "output_type": "stream",
     "text": [
      "<pad> Bienvenue à Smallpdf Prêt à prendre la gestion de documents au niveau suivant? 7 Documents numériques — Tous en un seul endroit ia DOC Avec la nouvelle expérience Smallpdf, vous pouvez télécharger, \n"
     ]
    }
   ],
   "source": [
    "from transformers import MarianMTModel, MarianTokenizer\n",
    "\n",
    "# Initialize the tokenizer and model\n",
    "tokenizer = MarianTokenizer.from_pretrained('Helsinki-NLP/opus-mt-en-fr')\n",
    "model = MarianMTModel.from_pretrained('Helsinki-NLP/opus-mt-en-fr')\n",
    "\n",
    "# # Define the input text with formatting\n",
    "# text = \"Hello,\\n\\nThis is a test.\\n\\nBest regards,\\nJohn Doe\"\n",
    "\n",
    "# Tokenize the text\n",
    "input_ids = tokenizer.encode(text, return_tensors='pt')\n",
    "\n",
    "# Initialize an empty string to store the translated text\n",
    "translated_text = \"\"\n",
    "\n",
    "# Iterate over the input text in chunks\n",
    "for i in range(0, len(input_ids), 100):\n",
    "    # Get a chunk of the input text\n",
    "    chunk = input_ids[i:i+100]\n",
    "\n",
    "    # Generate the translation for the chunk\n",
    "    translation = model.generate(chunk, max_length=40, num_beams=4, early_stopping=True)\n",
    "\n",
    "    # Decode the translation\n",
    "    translated_chunk = tokenizer.decode(translation[0])\n",
    "\n",
    "    # Add the translated chunk to the translated text\n",
    "    translated_text += translated_chunk + \" \"\n",
    "\n",
    "# Print the translated text\n",
    "print(translated_text)"
   ]
  },
  {
   "cell_type": "code",
   "execution_count": 12,
   "metadata": {},
   "outputs": [
    {
     "name": "stdout",
     "output_type": "stream",
     "text": [
      "204\n"
     ]
    }
   ],
   "source": [
    "print(len(translated_text))"
   ]
  },
  {
   "cell_type": "code",
   "execution_count": 13,
   "metadata": {},
   "outputs": [
    {
     "name": "stdout",
     "output_type": "stream",
     "text": [
      "902\n"
     ]
    }
   ],
   "source": [
    "print(len(text))"
   ]
  },
  {
   "cell_type": "code",
   "execution_count": null,
   "metadata": {},
   "outputs": [],
   "source": []
  }
 ],
 "metadata": {
  "kernelspec": {
   "display_name": "nlp",
   "language": "python",
   "name": "python3"
  },
  "language_info": {
   "codemirror_mode": {
    "name": "ipython",
    "version": 3
   },
   "file_extension": ".py",
   "mimetype": "text/x-python",
   "name": "python",
   "nbconvert_exporter": "python",
   "pygments_lexer": "ipython3",
   "version": "3.9.13"
  }
 },
 "nbformat": 4,
 "nbformat_minor": 2
}
