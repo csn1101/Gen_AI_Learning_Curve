{
 "cells": [
  {
   "cell_type": "code",
   "execution_count": 1,
   "metadata": {},
   "outputs": [],
   "source": [
    "from pdf2image import convert_from_path\n",
    "\n",
    "# Path to the PDF file\n",
    "pdf_path = r\"C:\\Users\\sengu\\Downloads\\Get_Started_With_Smallpdf.pdf\"\n",
    "\n",
    "# Convert the PDF to an image\n",
    "images = convert_from_path(pdf_path)\n",
    "\n",
    "# Save the image\n",
    "for i, image in enumerate(images):\n",
    "    image.save('page_{}.jpg'.format(i), 'JPEG')"
   ]
  },
  {
   "cell_type": "code",
   "execution_count": 4,
   "metadata": {},
   "outputs": [
    {
     "name": "stdout",
     "output_type": "stream",
     "text": [
      "Welcome to Smallpdf\n",
      "\n",
      "Ready to take document management to the next level?\n",
      "\n",
      "7 Digital Documents—All In One Place\n",
      "\n",
      "ia DOC With the new Smallpdf experience, you can\n",
      "freely upload, organize, and share digital\n",
      "documents. When you enable the ‘Storage’\n",
      "option, we'll also store all processed files here.\n",
      "\n",
      "Enhance Documents in One Click\n",
      "\n",
      "° x\n",
      "When you right-click on a file, we'll present (2 ea\n",
      "\n",
      "you with an array of options to convert, = m\n",
      "compress, or modify it. . 6 “\n",
      "x °\n",
      "\n",
      "Access Files Anytime, Anywhere\n",
      "\n",
      "&\n",
      "vs S You can access files stored on Smallpdf from\n",
      "_ your computer, phone, or tablet. We'll also\n",
      "| PDF sync files from the Smallpdf Mobile App to our\n",
      "rPOF] . = online portal\n",
      "° x\n",
      "x °\n",
      "Collaborate With Others M\n",
      "\n",
      "! \\\n",
      "Forget mundane administrative tasks. With OS Sign here |\n",
      "1\n",
      "\n",
      "Smallpdf, youcan requeste-signatures,send\n",
      "\n",
      "large files, or even enable the Smallpdf G Suite °\n",
      "App for your entire organization.\n",
      "\n",
      "\n"
     ]
    }
   ],
   "source": [
    "import pytesseract\n",
    "from PIL import Image\n",
    "\n",
    "# Open the image file\n",
    "img = Image.open('page_0.jpg')\n",
    "\n",
    "# Set the path to the Tesseract-OCR executable\n",
    "pytesseract.pytesseract.tesseract_cmd = r'C:\\Program Files\\Tesseract-OCR\\tesseract.exe'\n",
    "\n",
    "# Extract text from the image\n",
    "text = pytesseract.image_to_string(img)\n",
    "\n",
    "# Print the extracted text\n",
    "print(text)"
   ]
  },
  {
   "cell_type": "code",
   "execution_count": 5,
   "metadata": {},
   "outputs": [
    {
     "name": "stderr",
     "output_type": "stream",
     "text": [
      "d:\\DS WorkFlow\\Github\\Gen_AI\\nlp\\lib\\site-packages\\tqdm\\auto.py:21: TqdmWarning: IProgress not found. Please update jupyter and ipywidgets. See https://ipywidgets.readthedocs.io/en/stable/user_install.html\n",
      "  from .autonotebook import tqdm as notebook_tqdm\n"
     ]
    },
    {
     "name": "stdout",
     "output_type": "stream",
     "text": [
      "<pad> Bienvenue à Smallpdf Prêt à prendre la gestion de documents au niveau suivant? 7 Documents numériques — Tous en un seul endroit ia DOC Avec la nouvelle expérience Smallpdf, vous pouvez télécharger,\n"
     ]
    }
   ],
   "source": [
    "from transformers import MarianMTModel, MarianTokenizer\n",
    "\n",
    "# Initialize the tokenizer and model\n",
    "tokenizer = MarianTokenizer.from_pretrained('Helsinki-NLP/opus-mt-en-fr')\n",
    "model = MarianMTModel.from_pretrained('Helsinki-NLP/opus-mt-en-fr')\n",
    "\n",
    "\n",
    "# Tokenize the text\n",
    "input_ids = tokenizer.encode(text, return_tensors='pt')\n",
    "\n",
    "# Generate the translation\n",
    "translation = model.generate(input_ids, max_length=40, num_beams=4, early_stopping=True)\n",
    "\n",
    "# Decode the translation\n",
    "translated_text = tokenizer.decode(translation[0])\n",
    "\n",
    "# Print the translated text\n",
    "print(translated_text)"
   ]
  },
  {
   "cell_type": "code",
   "execution_count": 2,
   "metadata": {},
   "outputs": [
    {
     "ename": "error",
     "evalue": "OpenCV(4.9.0) D:\\a\\opencv-python\\opencv-python\\opencv\\modules\\dnn\\src\\tensorflow\\tf_importer.cpp:3044: error: (-215:Assertion failed) netBinSize || netTxtSize in function 'cv::dnn::dnn4_v20231225::`anonymous-namespace'::TFImporter::populateNet'\n",
     "output_type": "error",
     "traceback": [
      "\u001b[1;31m---------------------------------------------------------------------------\u001b[0m",
      "\u001b[1;31merror\u001b[0m                                     Traceback (most recent call last)",
      "Cell \u001b[1;32mIn[2], line 8\u001b[0m\n\u001b[0;32m      5\u001b[0m image \u001b[38;5;241m=\u001b[39m cv2\u001b[38;5;241m.\u001b[39mimread(\u001b[38;5;124m'\u001b[39m\u001b[38;5;124mpage_0.jpg\u001b[39m\u001b[38;5;124m'\u001b[39m)\n\u001b[0;32m      7\u001b[0m \u001b[38;5;66;03m# Define the EAST text detector\u001b[39;00m\n\u001b[1;32m----> 8\u001b[0m net \u001b[38;5;241m=\u001b[39m \u001b[43mcv2\u001b[49m\u001b[38;5;241;43m.\u001b[39;49m\u001b[43mdnn\u001b[49m\u001b[38;5;241;43m.\u001b[39;49m\u001b[43mreadNet\u001b[49m\u001b[43m(\u001b[49m\u001b[38;5;124;43m'\u001b[39;49m\u001b[38;5;124;43mfrozen_east_text_detection.pb\u001b[39;49m\u001b[38;5;124;43m'\u001b[39;49m\u001b[43m)\u001b[49m\n\u001b[0;32m     10\u001b[0m \u001b[38;5;66;03m# Set the input image\u001b[39;00m\n\u001b[0;32m     11\u001b[0m blob \u001b[38;5;241m=\u001b[39m cv2\u001b[38;5;241m.\u001b[39mdnn\u001b[38;5;241m.\u001b[39mblobFromImage(image, \u001b[38;5;241m1.0\u001b[39m, (\u001b[38;5;241m320\u001b[39m, \u001b[38;5;241m320\u001b[39m), (\u001b[38;5;241m123.68\u001b[39m, \u001b[38;5;241m116.78\u001b[39m, \u001b[38;5;241m103.94\u001b[39m), swapRB\u001b[38;5;241m=\u001b[39m\u001b[38;5;28;01mTrue\u001b[39;00m, crop\u001b[38;5;241m=\u001b[39m\u001b[38;5;28;01mFalse\u001b[39;00m)\n",
      "\u001b[1;31merror\u001b[0m: OpenCV(4.9.0) D:\\a\\opencv-python\\opencv-python\\opencv\\modules\\dnn\\src\\tensorflow\\tf_importer.cpp:3044: error: (-215:Assertion failed) netBinSize || netTxtSize in function 'cv::dnn::dnn4_v20231225::`anonymous-namespace'::TFImporter::populateNet'\n"
     ]
    }
   ],
   "source": []
  },
  {
   "cell_type": "code",
   "execution_count": 3,
   "metadata": {},
   "outputs": [
    {
     "ename": "ModuleNotFoundError",
     "evalue": "No module named 'pyPdf2Html'",
     "output_type": "error",
     "traceback": [
      "\u001b[1;31m---------------------------------------------------------------------------\u001b[0m",
      "\u001b[1;31mModuleNotFoundError\u001b[0m                       Traceback (most recent call last)",
      "Cell \u001b[1;32mIn[3], line 1\u001b[0m\n\u001b[1;32m----> 1\u001b[0m \u001b[38;5;28;01mimport\u001b[39;00m \u001b[38;5;21;01mpyPdf2Html\u001b[39;00m\n\u001b[0;32m      3\u001b[0m \u001b[38;5;66;03m# Convert the PDF to HTML\u001b[39;00m\n\u001b[0;32m      4\u001b[0m html \u001b[38;5;241m=\u001b[39m pyPdf2Html\u001b[38;5;241m.\u001b[39mconvert(\u001b[38;5;124m'\u001b[39m\u001b[38;5;124mpath/to/input.pdf\u001b[39m\u001b[38;5;124m'\u001b[39m, \u001b[38;5;124m'\u001b[39m\u001b[38;5;124mpath/to/output.html\u001b[39m\u001b[38;5;124m'\u001b[39m)\n",
      "\u001b[1;31mModuleNotFoundError\u001b[0m: No module named 'pyPdf2Html'"
     ]
    }
   ],
   "source": [
    "import pyPdf2Html\n",
    "\n",
    "# Convert the PDF to HTML\n",
    "html = pyPdf2Html.convert('path/to/input.pdf', 'path/to/output.html')\n",
    "\n",
    "# Save the HTML to a file\n",
    "with open('path/to/output.html', 'w') as f:\n",
    "    f.write(html)"
   ]
  },
  {
   "cell_type": "code",
   "execution_count": null,
   "metadata": {},
   "outputs": [],
   "source": []
  }
 ],
 "metadata": {
  "kernelspec": {
   "display_name": "nlp",
   "language": "python",
   "name": "python3"
  },
  "language_info": {
   "codemirror_mode": {
    "name": "ipython",
    "version": 3
   },
   "file_extension": ".py",
   "mimetype": "text/x-python",
   "name": "python",
   "nbconvert_exporter": "python",
   "pygments_lexer": "ipython3",
   "version": "3.9.13"
  }
 },
 "nbformat": 4,
 "nbformat_minor": 2
}
