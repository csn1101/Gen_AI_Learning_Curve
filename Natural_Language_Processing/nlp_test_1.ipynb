{
 "cells": [
  {
   "cell_type": "markdown",
   "metadata": {},
   "source": [
    "**NLP**"
   ]
  },
  {
   "cell_type": "code",
   "execution_count": 1,
   "metadata": {},
   "outputs": [
    {
     "data": {
      "text/plain": [
       "True"
      ]
     },
     "execution_count": 1,
     "metadata": {},
     "output_type": "execute_result"
    }
   ],
   "source": [
    "import os \n",
    "from dotenv import load_dotenv\n",
    "#we can use override = True inside parenthesis to override any env variable set systemwide\n",
    "load_dotenv()"
   ]
  },
  {
   "cell_type": "code",
   "execution_count": 2,
   "metadata": {},
   "outputs": [],
   "source": [
    "nlp_key = os.getenv(\"nlp_key\")\n",
    "user = os.getenv(\"user_name\")"
   ]
  },
  {
   "cell_type": "code",
   "execution_count": 3,
   "metadata": {},
   "outputs": [
    {
     "name": "stdout",
     "output_type": "stream",
     "text": [
      "Chandan Sengupta\n"
     ]
    }
   ],
   "source": [
    "print(user)"
   ]
  },
  {
   "cell_type": "code",
   "execution_count": 17,
   "metadata": {},
   "outputs": [],
   "source": [
    "#openai test\n",
    "from openai import OpenAI\n",
    "client=OpenAI(api_key = nlp_key)"
   ]
  },
  {
   "cell_type": "code",
   "execution_count": 19,
   "metadata": {},
   "outputs": [],
   "source": [
    "# response = client.chat.completions.create(\n",
    "#     model=\"gpt-3.5-turbo\",\n",
    "#     messages=[\n",
    "#         {\"role\":\"user\",\n",
    "#          \"content\":\"write two lines about leo messi\"}\n",
    "#     ]\n",
    "# )"
   ]
  },
  {
   "cell_type": "code",
   "execution_count": 2,
   "metadata": {},
   "outputs": [
    {
     "name": "stderr",
     "output_type": "stream",
     "text": [
      "[nltk_data] Downloading package punkt to\n",
      "[nltk_data]     C:\\Users\\sengu\\AppData\\Roaming\\nltk_data...\n",
      "[nltk_data]   Package punkt is already up-to-date!\n",
      "[nltk_data] Downloading package averaged_perceptron_tagger to\n",
      "[nltk_data]     C:\\Users\\sengu\\AppData\\Roaming\\nltk_data...\n",
      "[nltk_data]   Package averaged_perceptron_tagger is already up-to-\n",
      "[nltk_data]       date!\n",
      "[nltk_data] Downloading package maxent_ne_chunker to\n",
      "[nltk_data]     C:\\Users\\sengu\\AppData\\Roaming\\nltk_data...\n",
      "[nltk_data]   Package maxent_ne_chunker is already up-to-date!\n",
      "[nltk_data] Downloading package words to\n",
      "[nltk_data]     C:\\Users\\sengu\\AppData\\Roaming\\nltk_data...\n",
      "[nltk_data]   Package words is already up-to-date!\n"
     ]
    },
    {
     "name": "stdout",
     "output_type": "stream",
     "text": [
      "Original Sentence: Chandan went to cognizant office on Sunday at 11.58 pm\n",
      "Translated Sentence: Chandan est allé au bureau de connaissance le dimanche à 23h58\n"
     ]
    }
   ],
   "source": [
    "# # Step 1: Install Necessary Libraries\n",
    "# # Run this cell only if the libraries are not already installed\n",
    "# !pip install nltk transformers torch sentencepiece\n",
    "\n",
    "# Step 2: Import Libraries and Download NLTK Data\n",
    "import nltk\n",
    "from nltk import pos_tag, word_tokenize\n",
    "from nltk.chunk import ne_chunk\n",
    "from transformers import MarianMTModel, MarianTokenizer\n",
    "import warnings\n",
    "warnings.filterwarnings('ignore')\n",
    "\n",
    "# Download necessary NLTK data files\n",
    "nltk.download('punkt')\n",
    "nltk.download('averaged_perceptron_tagger')\n",
    "nltk.download('maxent_ne_chunker')\n",
    "nltk.download('words')\n",
    "\n",
    "# Step 3: Define the Function to Extract Entities\n",
    "def extract_entities(sentence):\n",
    "    tokens = word_tokenize(sentence)\n",
    "    pos_tags = pos_tag(tokens)\n",
    "    named_entities = ne_chunk(pos_tags, binary=True)\n",
    "    \n",
    "    entities = []\n",
    "    for chunk in named_entities:\n",
    "        if hasattr(chunk, 'label') and chunk.label() == 'NE':\n",
    "            entity = ' '.join(c[0] for c in chunk)\n",
    "            entities.append(entity)\n",
    "    \n",
    "    return entities, pos_tags\n",
    "\n",
    "# Step 4: Define the Function to Translate with Preserved Entities\n",
    "def translate_with_preserved_entities(sentence, src_lang='en', tgt_lang='fr'):\n",
    "    # Extract entities and POS tags\n",
    "    entities, pos_tags = extract_entities(sentence)\n",
    "    \n",
    "    # Replace entities with placeholders\n",
    "    modified_sentence = sentence\n",
    "    entity_map = {}\n",
    "    for i, entity in enumerate(entities):\n",
    "        placeholder = f\"ENTITY_{i}\"\n",
    "        entity_map[placeholder] = entity\n",
    "        modified_sentence = modified_sentence.replace(entity, placeholder)\n",
    "    \n",
    "    # Load translation model and tokenizer\n",
    "    model_name = f'Helsinki-NLP/opus-mt-{src_lang}-{tgt_lang}'\n",
    "    tokenizer = MarianTokenizer.from_pretrained(model_name)\n",
    "    model = MarianMTModel.from_pretrained(model_name)\n",
    "    \n",
    "    # Translate the modified sentence\n",
    "    tokenized_text = tokenizer(modified_sentence, return_tensors='pt')\n",
    "    translated_tokens = model.generate(**tokenized_text)\n",
    "    translated_sentence = tokenizer.decode(translated_tokens[0], skip_special_tokens=True)\n",
    "    \n",
    "    # Replace placeholders with original entities\n",
    "    for placeholder, entity in entity_map.items():\n",
    "        translated_sentence = translated_sentence.replace(placeholder, entity)\n",
    "    \n",
    "    return translated_sentence\n",
    "\n",
    "# Step 5: Translate a Given Sentence\n",
    "sentence = \"Chandan went to cognizant office on Sunday at 11.58 pm\"\n",
    "translated_sentence = translate_with_preserved_entities(sentence)\n",
    "print(f\"Original Sentence: {sentence}\")\n",
    "print(f\"Translated Sentence: {translated_sentence}\")"
   ]
  },
  {
   "cell_type": "code",
   "execution_count": null,
   "metadata": {},
   "outputs": [],
   "source": []
  }
 ],
 "metadata": {
  "kernelspec": {
   "display_name": "nlp",
   "language": "python",
   "name": "python3"
  },
  "language_info": {
   "codemirror_mode": {
    "name": "ipython",
    "version": 3
   },
   "file_extension": ".py",
   "mimetype": "text/x-python",
   "name": "python",
   "nbconvert_exporter": "python",
   "pygments_lexer": "ipython3",
   "version": "3.9.13"
  }
 },
 "nbformat": 4,
 "nbformat_minor": 2
}
