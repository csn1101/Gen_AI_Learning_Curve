{
 "cells": [
  {
   "cell_type": "markdown",
   "metadata": {},
   "source": [
    "**LAYERS**\n",
    "\n",
    "- In human terms the input values are senses of human beings , which passes this sense to neurons in brain\n",
    "- Neurons passes on the feeedback to output layers as output values\n",
    "- For one single observation there can be manu input values , suppose 'age of a person' , a single feature , this will be passed on to the neuron as separate\n",
    "  separate independent variables."
   ]
  },
  {
   "cell_type": "markdown",
   "metadata": {},
   "source": []
  }
 ],
 "metadata": {
  "language_info": {
   "name": "python"
  }
 },
 "nbformat": 4,
 "nbformat_minor": 2
}
