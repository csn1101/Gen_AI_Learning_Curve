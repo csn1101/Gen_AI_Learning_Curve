{
 "cells": [
  {
   "cell_type": "markdown",
   "metadata": {},
   "source": [
    "**Neuron Basic Details**\n",
    "\n",
    "- In human terms the input values are senses of human beings , which passes this sense to neurons in brain\n",
    "- Neurons passes on the feeedback to output layers as output values\n",
    "- For one single observation there can be manu input values , suppose 'age of a person' , a single feature , this will be passed on to the neuron as separate\n",
    "  separate independent variables.\n",
    "- These output values can be continuous , binary or categorical.\n",
    "- In secnarios of categorical output variable , the output values will be multiple in numbers just like multiple input value for a single observation\n",
    "- Once input value gets passed on to the neuron , the neuron enables the activation function to generate the output value\n",
    "- The activation function takes the weighted sum of the input variables into consideration.\n",
    "\n",
    "**Activation Functions**\n",
    "\n",
    "- There are few types of activation functions , such as below -\n",
    "  - Thresold function - (For binary output variable - 0,1)\n",
    "  - Sigmoid function - (For binary output variable - 0,1)\n",
    "  - Rectifier function\n",
    "  - Hyperbolic Tangent (tanh)\n",
    "\n"
   ]
  },
  {
   "cell_type": "markdown",
   "metadata": {},
   "source": []
  }
 ],
 "metadata": {
  "language_info": {
   "name": "python"
  }
 },
 "nbformat": 4,
 "nbformat_minor": 2
}
